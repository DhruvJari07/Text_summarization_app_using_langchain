{
 "cells": [
  {
   "cell_type": "code",
   "execution_count": 1,
   "metadata": {},
   "outputs": [],
   "source": [
    "from langchain_community.llms import HuggingFaceHub\n",
    "from langchain.docstore.document import Document\n",
    "from langchain.text_splitter import CharacterTextSplitter\n",
    "from langchain.chains.summarize import load_summarize_chain\n",
    "from dotenv import load_dotenv\n",
    "import os"
   ]
  },
  {
   "cell_type": "code",
   "execution_count": 3,
   "metadata": {},
   "outputs": [],
   "source": [
    "load_dotenv()\n",
    "\n",
    "Huggingface_api = os.getenv(\"Huggingface_api\")"
   ]
  },
  {
   "cell_type": "code",
   "execution_count": 4,
   "metadata": {},
   "outputs": [
    {
     "name": "stderr",
     "output_type": "stream",
     "text": [
      "c:\\Users\\Dhruv\\anaconda3\\envs\\langchain_apps\\lib\\site-packages\\langchain_core\\_api\\deprecation.py:119: LangChainDeprecationWarning: The class `HuggingFaceHub` was deprecated in LangChain 0.0.21 and will be removed in 0.3.0. Use HuggingFaceEndpoint instead.\n",
      "  warn_deprecated(\n",
      "c:\\Users\\Dhruv\\anaconda3\\envs\\langchain_apps\\lib\\site-packages\\tqdm\\auto.py:21: TqdmWarning: IProgress not found. Please update jupyter and ipywidgets. See https://ipywidgets.readthedocs.io/en/stable/user_install.html\n",
      "  from .autonotebook import tqdm as notebook_tqdm\n"
     ]
    }
   ],
   "source": [
    "repo_id = \"Falconsai/text_summarization\"\n",
    "llm = HuggingFaceHub(repo_id=repo_id, huggingfacehub_api_token=Huggingface_api)"
   ]
  },
  {
   "cell_type": "code",
   "execution_count": 5,
   "metadata": {},
   "outputs": [],
   "source": [
    "txt = '''\n",
    "The dominant sequence transduction models are based on complex recurrent or\n",
    "convolutional neural networks in an encoder-decoder configuration. The best\n",
    "performing models also connect the encoder and decoder through an attention\n",
    "mechanism. We propose a new simple network architecture, the Transformer, based\n",
    "solely on attention mechanisms, dispensing with recurrence and convolutions\n",
    "entirely. Experiments on two machine translation tasks show these models to be\n",
    "superior in quality while being more parallelizable and requiring significantly\n",
    "less time to train. Our model achieves 28.4 BLEU on the WMT 2014\n",
    "English-to-German translation task, improving over the existing best results,\n",
    "including ensembles by over 2 BLEU. On the WMT 2014 English-to-French\n",
    "translation task, our model establishes a new single-model state-of-the-art\n",
    "BLEU score of 41.8 after training for 3.5 days on eight GPUs, a small fraction\n",
    "of the training costs of the best models from the literature. We show that the\n",
    "Transformer generalizes well to other tasks by applying it successfully to\n",
    "English constituency parsing both with large and limited training data.\n",
    "'''\n"
   ]
  },
  {
   "cell_type": "code",
   "execution_count": 6,
   "metadata": {},
   "outputs": [],
   "source": [
    "text_splitter = CharacterTextSplitter()\n",
    "texts = text_splitter.split_text(txt)"
   ]
  },
  {
   "cell_type": "code",
   "execution_count": 7,
   "metadata": {},
   "outputs": [],
   "source": [
    "docs = [Document(page_content=t) for t in texts]"
   ]
  },
  {
   "cell_type": "code",
   "execution_count": 11,
   "metadata": {},
   "outputs": [
    {
     "data": {
      "text/plain": [
       "'We propose a new simple network architecture, the Transformer, based solely on attention mechanisms . Experiments on two machine translation tasks show these models to be superior in quality . Our model achieves 28.4 BLEU on the WMT 2014 English-to-German translation task .'"
      ]
     },
     "execution_count": 11,
     "metadata": {},
     "output_type": "execute_result"
    }
   ],
   "source": [
    "chain = load_summarize_chain(llm, chain_type='stuff')\n",
    "chain.run(docs)"
   ]
  },
  {
   "cell_type": "code",
   "execution_count": null,
   "metadata": {},
   "outputs": [],
   "source": []
  }
 ],
 "metadata": {
  "kernelspec": {
   "display_name": "langchain_apps",
   "language": "python",
   "name": "python3"
  },
  "language_info": {
   "codemirror_mode": {
    "name": "ipython",
    "version": 3
   },
   "file_extension": ".py",
   "mimetype": "text/x-python",
   "name": "python",
   "nbconvert_exporter": "python",
   "pygments_lexer": "ipython3",
   "version": "3.10.14"
  }
 },
 "nbformat": 4,
 "nbformat_minor": 2
}
